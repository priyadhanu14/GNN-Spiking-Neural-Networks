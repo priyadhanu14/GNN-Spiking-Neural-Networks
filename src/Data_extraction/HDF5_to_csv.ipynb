{
 "cells": [
  {
   "cell_type": "code",
   "execution_count": 1,
   "metadata": {},
   "outputs": [],
   "source": [
    "import h5py\n",
    "import numpy as np\n",
    "import pandas as pd"
   ]
  },
  {
   "cell_type": "code",
   "execution_count": 2,
   "metadata": {},
   "outputs": [
    {
     "name": "stdout",
     "output_type": "stream",
     "text": [
      "Requirement already satisfied: h5py in /DATA/hdhanu/lib/python3.12/site-packages (3.11.0)\n",
      "Requirement already satisfied: numpy>=1.17.3 in /DATA/hdhanu/lib/python3.12/site-packages (from h5py) (1.26.4)\n",
      "Note: you may need to restart the kernel to use updated packages.\n"
     ]
    }
   ],
   "source": [
    "%pip install h5py"
   ]
  },
  {
   "cell_type": "code",
   "execution_count": 3,
   "metadata": {},
   "outputs": [],
   "source": [
    "dataset_weight = h5py.File('GPU_Weights.h5', 'r')"
   ]
  },
  {
   "cell_type": "code",
   "execution_count": 4,
   "metadata": {},
   "outputs": [
    {
     "data": {
      "text/plain": [
       "<KeysViewHDF5 ['Edges']>"
      ]
     },
     "execution_count": 4,
     "metadata": {},
     "output_type": "execute_result"
    }
   ],
   "source": [
    "dataset_weight.keys()"
   ]
  },
  {
   "cell_type": "code",
   "execution_count": 5,
   "metadata": {},
   "outputs": [],
   "source": [
    "data = dataset_weight['Edges'][:]"
   ]
  },
  {
   "cell_type": "code",
   "execution_count": 6,
   "metadata": {},
   "outputs": [
    {
     "data": {
      "text/plain": [
       "array([(   1,    0, 1.54399018e-07), ( 100,    0, 1.55262171e-07),\n",
       "       ( 101,    0, 9.83101267e-10), ..., (9795, 9999, 4.84372098e-09),\n",
       "       (9597, 9999, 5.49452839e-09), (9994, 9999, 6.14854070e-11)],\n",
       "      dtype=[('Source', '<i4'), ('Destination', '<i4'), ('Weight', '<f8')])"
      ]
     },
     "execution_count": 6,
     "metadata": {},
     "output_type": "execute_result"
    }
   ],
   "source": [
    "data"
   ]
  },
  {
   "cell_type": "code",
   "execution_count": 7,
   "metadata": {},
   "outputs": [],
   "source": [
    "dataframe = pd.DataFrame(data)"
   ]
  },
  {
   "cell_type": "code",
   "execution_count": 8,
   "metadata": {},
   "outputs": [
    {
     "data": {
      "text/html": [
       "<div>\n",
       "<style scoped>\n",
       "    .dataframe tbody tr th:only-of-type {\n",
       "        vertical-align: middle;\n",
       "    }\n",
       "\n",
       "    .dataframe tbody tr th {\n",
       "        vertical-align: top;\n",
       "    }\n",
       "\n",
       "    .dataframe thead th {\n",
       "        text-align: right;\n",
       "    }\n",
       "</style>\n",
       "<table border=\"1\" class=\"dataframe\">\n",
       "  <thead>\n",
       "    <tr style=\"text-align: right;\">\n",
       "      <th></th>\n",
       "      <th>Source</th>\n",
       "      <th>Destination</th>\n",
       "      <th>Weight</th>\n",
       "    </tr>\n",
       "  </thead>\n",
       "  <tbody>\n",
       "    <tr>\n",
       "      <th>0</th>\n",
       "      <td>1</td>\n",
       "      <td>0</td>\n",
       "      <td>1.543990e-07</td>\n",
       "    </tr>\n",
       "    <tr>\n",
       "      <th>1</th>\n",
       "      <td>100</td>\n",
       "      <td>0</td>\n",
       "      <td>1.552622e-07</td>\n",
       "    </tr>\n",
       "    <tr>\n",
       "      <th>2</th>\n",
       "      <td>101</td>\n",
       "      <td>0</td>\n",
       "      <td>9.831013e-10</td>\n",
       "    </tr>\n",
       "    <tr>\n",
       "      <th>3</th>\n",
       "      <td>2</td>\n",
       "      <td>0</td>\n",
       "      <td>9.403134e-08</td>\n",
       "    </tr>\n",
       "    <tr>\n",
       "      <th>4</th>\n",
       "      <td>200</td>\n",
       "      <td>0</td>\n",
       "      <td>9.556646e-08</td>\n",
       "    </tr>\n",
       "    <tr>\n",
       "      <th>...</th>\n",
       "      <td>...</td>\n",
       "      <td>...</td>\n",
       "      <td>...</td>\n",
       "    </tr>\n",
       "    <tr>\n",
       "      <th>315243</th>\n",
       "      <td>9895</td>\n",
       "      <td>9999</td>\n",
       "      <td>8.965165e-09</td>\n",
       "    </tr>\n",
       "    <tr>\n",
       "      <th>315244</th>\n",
       "      <td>9598</td>\n",
       "      <td>9999</td>\n",
       "      <td>8.294401e-09</td>\n",
       "    </tr>\n",
       "    <tr>\n",
       "      <th>315245</th>\n",
       "      <td>9795</td>\n",
       "      <td>9999</td>\n",
       "      <td>4.843721e-09</td>\n",
       "    </tr>\n",
       "    <tr>\n",
       "      <th>315246</th>\n",
       "      <td>9597</td>\n",
       "      <td>9999</td>\n",
       "      <td>5.494528e-09</td>\n",
       "    </tr>\n",
       "    <tr>\n",
       "      <th>315247</th>\n",
       "      <td>9994</td>\n",
       "      <td>9999</td>\n",
       "      <td>6.148541e-11</td>\n",
       "    </tr>\n",
       "  </tbody>\n",
       "</table>\n",
       "<p>315248 rows × 3 columns</p>\n",
       "</div>"
      ],
      "text/plain": [
       "        Source  Destination        Weight\n",
       "0            1            0  1.543990e-07\n",
       "1          100            0  1.552622e-07\n",
       "2          101            0  9.831013e-10\n",
       "3            2            0  9.403134e-08\n",
       "4          200            0  9.556646e-08\n",
       "...        ...          ...           ...\n",
       "315243    9895         9999  8.965165e-09\n",
       "315244    9598         9999  8.294401e-09\n",
       "315245    9795         9999  4.843721e-09\n",
       "315246    9597         9999  5.494528e-09\n",
       "315247    9994         9999  6.148541e-11\n",
       "\n",
       "[315248 rows x 3 columns]"
      ]
     },
     "execution_count": 8,
     "metadata": {},
     "output_type": "execute_result"
    }
   ],
   "source": [
    "dataframe"
   ]
  },
  {
   "cell_type": "code",
   "execution_count": 9,
   "metadata": {},
   "outputs": [],
   "source": [
    "dataframe.to_csv(\"Weights.csv\", index = False)"
   ]
  },
  {
   "cell_type": "markdown",
   "metadata": {},
   "source": [
    "SYMMETRIC CHECK"
   ]
  },
  {
   "cell_type": "code",
   "execution_count": 10,
   "metadata": {},
   "outputs": [],
   "source": [
    "data = np.array(dataframe)"
   ]
  },
  {
   "cell_type": "code",
   "execution_count": 11,
   "metadata": {},
   "outputs": [
    {
     "name": "stdout",
     "output_type": "stream",
     "text": [
      "Is the source-destination symmetric: True\n"
     ]
    }
   ],
   "source": [
    "# Convert Source-Destination pairs into a set of tuples\n",
    "pairs = set((row[0], row[1]) for row in data)\n",
    "# Check symmetry\n",
    "is_symmetric = all((dest, src) in pairs for src, dest in pairs)\n",
    "\n",
    "print(\"Is the source-destination symmetric:\", is_symmetric)"
   ]
  },
  {
   "cell_type": "markdown",
   "metadata": {},
   "source": [
    "SPIKE OUTPUT DATA"
   ]
  },
  {
   "cell_type": "code",
   "execution_count": 12,
   "metadata": {},
   "outputs": [
    {
     "ename": "KeyboardInterrupt",
     "evalue": "",
     "output_type": "error",
     "traceback": [
      "\u001b[0;31m---------------------------------------------------------------------------\u001b[0m",
      "\u001b[0;31mKeyboardInterrupt\u001b[0m                         Traceback (most recent call last)",
      "Cell \u001b[0;32mIn[12], line 23\u001b[0m\n\u001b[1;32m     20\u001b[0m \u001b[38;5;66;03m# Iterate over each Neuron_ key\u001b[39;00m\n\u001b[1;32m     21\u001b[0m \u001b[38;5;28;01mfor\u001b[39;00m key \u001b[38;5;129;01min\u001b[39;00m keys:\n\u001b[1;32m     22\u001b[0m     \u001b[38;5;66;03m# Read the dataset as an array\u001b[39;00m\n\u001b[0;32m---> 23\u001b[0m     data_array \u001b[38;5;241m=\u001b[39m f[key][:]\n\u001b[1;32m     25\u001b[0m     \u001b[38;5;66;03m# Write to CSV\u001b[39;00m\n\u001b[1;32m     26\u001b[0m     \u001b[38;5;66;03m# If you want each Neuron_ as a row:\u001b[39;00m\n\u001b[1;32m     27\u001b[0m     writer\u001b[38;5;241m.\u001b[39mwriterow([key] \u001b[38;5;241m+\u001b[39m data_array\u001b[38;5;241m.\u001b[39mtolist())\n",
      "File \u001b[0;32mh5py/_objects.pyx:54\u001b[0m, in \u001b[0;36mh5py._objects.with_phil.wrapper\u001b[0;34m()\u001b[0m\n",
      "File \u001b[0;32mh5py/_objects.pyx:55\u001b[0m, in \u001b[0;36mh5py._objects.with_phil.wrapper\u001b[0;34m()\u001b[0m\n",
      "File \u001b[0;32m/DATA/hdhanu/lib/python3.12/site-packages/h5py/_hl/dataset.py:758\u001b[0m, in \u001b[0;36mDataset.__getitem__\u001b[0;34m(self, args, new_dtype)\u001b[0m\n\u001b[1;32m    756\u001b[0m \u001b[38;5;28;01mif\u001b[39;00m \u001b[38;5;28mself\u001b[39m\u001b[38;5;241m.\u001b[39m_fast_read_ok \u001b[38;5;129;01mand\u001b[39;00m (new_dtype \u001b[38;5;129;01mis\u001b[39;00m \u001b[38;5;28;01mNone\u001b[39;00m):\n\u001b[1;32m    757\u001b[0m     \u001b[38;5;28;01mtry\u001b[39;00m:\n\u001b[0;32m--> 758\u001b[0m         \u001b[38;5;28;01mreturn\u001b[39;00m \u001b[38;5;28mself\u001b[39m\u001b[38;5;241m.\u001b[39m_fast_reader\u001b[38;5;241m.\u001b[39mread(args)\n\u001b[1;32m    759\u001b[0m     \u001b[38;5;28;01mexcept\u001b[39;00m \u001b[38;5;167;01mTypeError\u001b[39;00m:\n\u001b[1;32m    760\u001b[0m         \u001b[38;5;28;01mpass\u001b[39;00m  \u001b[38;5;66;03m# Fall back to Python read pathway below\u001b[39;00m\n",
      "\u001b[0;31mKeyboardInterrupt\u001b[0m: "
     ]
    }
   ],
   "source": [
    "\n",
    "# Path to your HDF5 file\n",
    "import csv\n",
    "\n",
    "\n",
    "hdf5_file = 'tR_1.0--fE_0.98_10000.h5'\n",
    "output_csv = 'spike_ouput.csv'\n",
    "\n",
    "# Open the HDF5 file\n",
    "with h5py.File(hdf5_file, 'r') as f:\n",
    "    # Get all Neuron_ keys\n",
    "    keys = list(f.keys())\n",
    "    \n",
    "    # Open the CSV file for writing\n",
    "    with open(output_csv, 'w', newline='') as csvfile:\n",
    "        writer = csv.writer(csvfile)\n",
    "        \n",
    "        # Write the header row (optional)\n",
    "        writer.writerow(['Neuron', 'Data'])\n",
    "        \n",
    "        # Iterate over each Neuron_ key\n",
    "        for key in keys:\n",
    "            # Read the dataset as an array\n",
    "            data_array = f[key][:]\n",
    "            \n",
    "            # Write to CSV\n",
    "            # If you want each Neuron_ as a row:\n",
    "            writer.writerow([key] + data_array.tolist())\n",
    "        "
   ]
  }
 ],
 "metadata": {
  "kernelspec": {
   "display_name": "base",
   "language": "python",
   "name": "python3"
  },
  "language_info": {
   "codemirror_mode": {
    "name": "ipython",
    "version": 3
   },
   "file_extension": ".py",
   "mimetype": "text/x-python",
   "name": "python",
   "nbconvert_exporter": "python",
   "pygments_lexer": "ipython3",
   "version": "3.12.7"
  }
 },
 "nbformat": 4,
 "nbformat_minor": 2
}
